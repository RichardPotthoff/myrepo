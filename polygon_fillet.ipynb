{
 "cells": [
  {
   "cell_type": "code",
   "execution_count": 1,
   "id": "2e40c712-51f5-42f0-a725-bb082b488b85",
   "metadata": {},
   "outputs": [],
   "source": [
    "import numpy as np\n",
    "from matplotlib import pyplot as plt"
   ]
  },
  {
   "cell_type": "code",
   "execution_count": 2,
   "id": "bdd3d330-a029-481b-a75a-dfa852ecdc2a",
   "metadata": {},
   "outputs": [],
   "source": [
    "from cmath import exp,pi\n",
    "def turtlePath2Points(Segs,p0=0+0j,scale=1.0,a0=1+0j,tol=0.05,offs=0,loops=1,return_heading=False,return_start_point=False):\n",
    "  \"\"\"\n",
    "  The parameter \"tol defines the resolution. It is the maximum allowable\n",
    "  difference between circular arc segment, and the secant between the\n",
    "  calculated points on the arc. Smaller values for tol will result in\n",
    "  more points per segment.\n",
    "  \"\"\"\n",
    "  a=a0/abs(a0)\n",
    "  p=p0\n",
    "  p-=1j*a*offs\n",
    "  if return_start_point:\n",
    "      yield p\n",
    "  for _ in range(loops):\n",
    "      for l,da in Segs:\n",
    "        l=l*scale\n",
    "        if da!=0:\n",
    "          r=l/da\n",
    "          r+=offs\n",
    "          if r!=0:\n",
    "            l=r*da\n",
    "            dl=2*abs(2*r*tol)**0.5\n",
    "            n=max(int(abs(6*(da/(2*pi)))),int(l//dl)+1)\n",
    "          else:\n",
    "            n=1\n",
    "          dda=exp(1j*da/n)\n",
    "          dda2=dda**0.5\n",
    "          v=(2*r*dda2.imag)*dda2*a\n",
    "        else:\n",
    "          n=1\n",
    "          dda=1\n",
    "          v=l*a\n",
    "        for _ in range(n):\n",
    "          p+=v\n",
    "          if return_heading:\n",
    "            yield p,a\n",
    "          else:\n",
    "            yield p\n",
    "          v*=dda\n",
    "          a*=dda\n"
   ]
  },
  {
   "cell_type": "code",
   "execution_count": 3,
   "id": "9cc4baab-b4fe-425e-8425-5e86174c27f3",
   "metadata": {},
   "outputs": [],
   "source": [
    "def polygon2TurtlePath(p,r=0,chamfer=False,max_cutoff_ratio=0.5,skip_cutoff=True):\n",
    "  pnext=np.roll(p,-1) #the point ahead \n",
    "  v=pnext-p #vector to the point ahead\n",
    "  l=abs(v)  #length of each side\n",
    "  heading=v/l #heading as unit vector\n",
    "  heading_change=np.roll(heading,-1)/heading\n",
    "  tan_alpha2=abs(heading_change.imag/(heading_change.real+1))#sin(alpha/2)/cos(alpha/2)=sin(alpha)/(cos(alpha)+1)\n",
    "  alpha=np.log(heading_change).imag #conversion of the heading vector change to radians\n",
    "  alpha2=alpha/2\n",
    "  calc_cutoff=np.ones_like(p,dtype=float)*r*tan_alpha2 #cutoffs based on desired radiuses\n",
    "  max_cutoff=l*np.roll(max_cutoff_ratio,-1) #maximum allowable cutoff for each side\n",
    "  used_cutoff=np.min([calc_cutoff,max_cutoff,np.roll(max_cutoff,1)],axis=0) #selected based on constraintd given\n",
    "  r_used=used_cutoff/tan_alpha2 #the resulting radius calculated from selected cutoff length\n",
    "  l=l-used_cutoff-np.roll(used_cutoff,1) #subtract the cutoff from both ends of each side\n",
    "  secant_length=2*r_used*abs(np.sin(alpha2)) #calculate the secant length for the chamfer option\n",
    "  if not skip_cutoff:\n",
    "      yield (used_cutoff[-1],0) #straight line from first polygon point to start of turtle path\n",
    "  for l,a,r,lsec,ch in zip(l,alpha,r_used,secant_length,np.zeros_like(p,dtype=bool)|chamfer):\n",
    "      yield (l,0) #the straight portion of each polygon side\n",
    "      if ch: #chamfer\n",
    "        yield(0.0,a/2) \n",
    "        yield(lsec,0)\n",
    "        yield(0.0,a/2)\n",
    "      else:  #fillet\n",
    "        yield (r*abs(a),a)"
   ]
  },
  {
   "cell_type": "code",
   "execution_count": 5,
   "id": "55b13565-2f26-44c5-8511-ce1dde348987",
   "metadata": {},
   "outputs": [
    {
     "ename": "AttributeError",
     "evalue": "'bytes' object has no attribute 'read'",
     "output_type": "error",
     "traceback": [
      "\u001b[0;31m---------------------------------------------------------------------------\u001b[0m",
      "\u001b[0;31mAttributeError\u001b[0m                            Traceback (most recent call last)",
      "Cell \u001b[0;32mIn[5], line 5\u001b[0m\n\u001b[1;32m      3\u001b[0m \u001b[38;5;28;01mfrom\u001b[39;00m \u001b[38;5;21;01msvg\u001b[39;00m\u001b[38;5;21;01m.\u001b[39;00m\u001b[38;5;21;01mpath\u001b[39;00m \u001b[38;5;28;01mimport\u001b[39;00m parse_path\n\u001b[1;32m      4\u001b[0m url\u001b[38;5;241m=\u001b[39m\u001b[38;5;124m'\u001b[39m\u001b[38;5;124mhttps://raw.githubusercontent.com/RichardPotthoff/myrepo/master/test.svg\u001b[39m\u001b[38;5;124m'\u001b[39m\n\u001b[0;32m----> 5\u001b[0m doc \u001b[38;5;241m=\u001b[39m \u001b[43mminidom\u001b[49m\u001b[38;5;241;43m.\u001b[39;49m\u001b[43mparse\u001b[49m\u001b[43m(\u001b[49m\u001b[43mrequests\u001b[49m\u001b[38;5;241;43m.\u001b[39;49m\u001b[43mget\u001b[49m\u001b[43m(\u001b[49m\u001b[43murl\u001b[49m\u001b[43m)\u001b[49m\u001b[38;5;241;43m.\u001b[39;49m\u001b[43mcontent\u001b[49m\u001b[43m)\u001b[49m\n\u001b[1;32m      7\u001b[0m path_index\u001b[38;5;241m=\u001b[39m\u001b[38;5;241m1\u001b[39m\u001b[38;5;66;03m# pick the second path in the file\u001b[39;00m\n\u001b[1;32m      9\u001b[0m parsed_path\u001b[38;5;241m=\u001b[39mparse_path(doc\u001b[38;5;241m.\u001b[39mgetElementsByTagName(\u001b[38;5;124m'\u001b[39m\u001b[38;5;124mpath\u001b[39m\u001b[38;5;124m'\u001b[39m)[path_index]\u001b[38;5;241m.\u001b[39mgetAttribute(\u001b[38;5;124m'\u001b[39m\u001b[38;5;124md\u001b[39m\u001b[38;5;124m'\u001b[39m))\n",
      "File \u001b[0;32m/private/var/containers/Bundle/Application/76D54110-1F1D-4AC1-BB95-41D688D1A940/Carnets-sci.app/Library/lib/python3.11/xml/dom/minidom.py:1990\u001b[0m, in \u001b[0;36mparse\u001b[0;34m(file, parser, bufsize)\u001b[0m\n\u001b[1;32m   1988\u001b[0m \u001b[38;5;28;01mif\u001b[39;00m parser \u001b[38;5;129;01mis\u001b[39;00m \u001b[38;5;28;01mNone\u001b[39;00m \u001b[38;5;129;01mand\u001b[39;00m \u001b[38;5;129;01mnot\u001b[39;00m bufsize:\n\u001b[1;32m   1989\u001b[0m     \u001b[38;5;28;01mfrom\u001b[39;00m \u001b[38;5;21;01mxml\u001b[39;00m\u001b[38;5;21;01m.\u001b[39;00m\u001b[38;5;21;01mdom\u001b[39;00m \u001b[38;5;28;01mimport\u001b[39;00m expatbuilder\n\u001b[0;32m-> 1990\u001b[0m     \u001b[38;5;28;01mreturn\u001b[39;00m \u001b[43mexpatbuilder\u001b[49m\u001b[38;5;241;43m.\u001b[39;49m\u001b[43mparse\u001b[49m\u001b[43m(\u001b[49m\u001b[43mfile\u001b[49m\u001b[43m)\u001b[49m\n\u001b[1;32m   1991\u001b[0m \u001b[38;5;28;01melse\u001b[39;00m:\n\u001b[1;32m   1992\u001b[0m     \u001b[38;5;28;01mfrom\u001b[39;00m \u001b[38;5;21;01mxml\u001b[39;00m\u001b[38;5;21;01m.\u001b[39;00m\u001b[38;5;21;01mdom\u001b[39;00m \u001b[38;5;28;01mimport\u001b[39;00m pulldom\n",
      "File \u001b[0;32m/private/var/containers/Bundle/Application/76D54110-1F1D-4AC1-BB95-41D688D1A940/Carnets-sci.app/Library/lib/python3.11/xml/dom/expatbuilder.py:913\u001b[0m, in \u001b[0;36mparse\u001b[0;34m(file, namespaces)\u001b[0m\n\u001b[1;32m    911\u001b[0m         result \u001b[38;5;241m=\u001b[39m builder\u001b[38;5;241m.\u001b[39mparseFile(fp)\n\u001b[1;32m    912\u001b[0m \u001b[38;5;28;01melse\u001b[39;00m:\n\u001b[0;32m--> 913\u001b[0m     result \u001b[38;5;241m=\u001b[39m \u001b[43mbuilder\u001b[49m\u001b[38;5;241;43m.\u001b[39;49m\u001b[43mparseFile\u001b[49m\u001b[43m(\u001b[49m\u001b[43mfile\u001b[49m\u001b[43m)\u001b[49m\n\u001b[1;32m    914\u001b[0m \u001b[38;5;28;01mreturn\u001b[39;00m result\n",
      "File \u001b[0;32m/private/var/containers/Bundle/Application/76D54110-1F1D-4AC1-BB95-41D688D1A940/Carnets-sci.app/Library/lib/python3.11/xml/dom/expatbuilder.py:204\u001b[0m, in \u001b[0;36mExpatBuilder.parseFile\u001b[0;34m(self, file)\u001b[0m\n\u001b[1;32m    202\u001b[0m \u001b[38;5;28;01mtry\u001b[39;00m:\n\u001b[1;32m    203\u001b[0m     \u001b[38;5;28;01mwhile\u001b[39;00m \u001b[38;5;241m1\u001b[39m:\n\u001b[0;32m--> 204\u001b[0m         buffer \u001b[38;5;241m=\u001b[39m \u001b[43mfile\u001b[49m\u001b[38;5;241;43m.\u001b[39;49m\u001b[43mread\u001b[49m(\u001b[38;5;241m16\u001b[39m\u001b[38;5;241m*\u001b[39m\u001b[38;5;241m1024\u001b[39m)\n\u001b[1;32m    205\u001b[0m         \u001b[38;5;28;01mif\u001b[39;00m \u001b[38;5;129;01mnot\u001b[39;00m buffer:\n\u001b[1;32m    206\u001b[0m             \u001b[38;5;28;01mbreak\u001b[39;00m\n",
      "\u001b[0;31mAttributeError\u001b[0m: 'bytes' object has no attribute 'read'"
     ]
    }
   ],
   "source": [
    "from xml.dom import minidom\n",
    "import requests\n",
    "import io\n",
    "from svg.path import parse_path\n",
    "url='https://raw.githubusercontent.com/RichardPotthoff/myrepo/master/test.svg'\n",
    "doc = minidom.parse(io.BytesIO(requests.get(url).content)\n",
    "\n",
    "path_index=1# pick the second path in the file\n",
    "\n",
    "parsed_path=parse_path(doc.getElementsByTagName('path')[path_index].getAttribute('d'))\n",
    "#only use the start points of segments with a length <>0\n",
    "polygon=np.array([l.start.conjugate() for l in parsed_path if abs(l.start-l.end)>1e-6])#filter zero-length lines"
   ]
  },
  {
   "cell_type": "code",
   "execution_count": null,
   "id": "499fc0d5-7eb5-4bc0-8b04-8dff6ad9160c",
   "metadata": {},
   "outputs": [],
   "source": [
    "n=len(polygon)\n",
    "loop=np.arange(n+1)%n#add last point to the end\n",
    "plt.plot(polygon[loop].real,polygon[loop].imag,'r.:',zorder=5)\n",
    "for i, p in enumerate(polygon):\n",
    "    plt.annotate(f'{i}', (p.real, p.imag))\n",
    "    pass\n",
    "turtlePath=list(polygon2TurtlePath(polygon,\n",
    "        r=5,\n",
    "        skip_cutoff=False))\n",
    "p0,p1=polygon[:2]\n",
    "phs=np.array(list(turtlePath2Points(turtlePath,p0=p0,a0=p1-p0,offs=0.0,tol=0.001,return_start_point=True) ))\n",
    "plt.gca().set_aspect('equal') \n",
    "plt.plot(phs.real,phs.imag,'k-',zorder=1);"
   ]
  },
  {
   "cell_type": "code",
   "execution_count": null,
   "id": "30b10684-c5b6-4a3e-9d99-67c9cb959725",
   "metadata": {},
   "outputs": [],
   "source": [
    "polygon=np.array([0+0j,2+0j,2+1.5j,1+0.5j,0+1j])\n",
    "n=len(polygon)\n",
    "loop=np.arange(n+1)%n#add last point to the end\n",
    "plt.plot(polygon[loop].real,polygon[loop].imag,'r.:',zorder=5)\n",
    "for i, p in enumerate(polygon):\n",
    "    plt.annotate(f'{i}', (p.real, p.imag))\n",
    "    pass\n",
    "turtlePath=list(polygon2TurtlePath(polygon,\n",
    "        r=np.array([0.1,0.1,0.4,0.1,0.1]),\n",
    "        chamfer=[True,True,False,False,True],\n",
    "        max_cutoff_ratio=np.array([0.5,0.02,0.5,0.5,0.5]),\n",
    "        skip_cutoff=False))\n",
    "p0,p1=polygon[:2]\n",
    "phs=np.array(list(turtlePath2Points(turtlePath,p0=p0,a0=p1-p0,offs=0.0,tol=0.001,return_start_point=True) ))\n",
    "plt.gca().set_aspect('equal') \n",
    "plt.plot(phs.real,phs.imag,'k-',zorder=1);"
   ]
  },
  {
   "cell_type": "code",
   "execution_count": null,
   "id": "7c7322c8-e23f-4312-92de-1389f9d1acaf",
   "metadata": {},
   "outputs": [],
   "source": []
  }
 ],
 "metadata": {
  "kernelspec": {
   "display_name": "Python 3 (ipykernel)",
   "language": "python",
   "name": "python3"
  },
  "language_info": {
   "codemirror_mode": {
    "name": "ipython",
    "version": 3
   },
   "file_extension": ".py",
   "mimetype": "text/x-python",
   "name": "python",
   "nbconvert_exporter": "python",
   "pygments_lexer": "ipython3",
   "version": "3.11.0"
  }
 },
 "nbformat": 4,
 "nbformat_minor": 5
}
