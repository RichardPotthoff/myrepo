{
 "cells": [
  {
   "cell_type": "markdown",
   "metadata": {},
   "source": [
    "# Blank Factory"
   ]
  },
  {
   "cell_type": "markdown",
   "metadata": {
    "jp-MarkdownHeadingCollapsed": true
   },
   "source": [
    "## Subroutines"
   ]
  },
  {
   "cell_type": "code",
   "execution_count": 1,
   "metadata": {},
   "outputs": [],
   "source": [
    "import numpy as np\n",
    "from matplotlib import pyplot as plt\n",
    "from cmath import pi,acos,exp,sqrt\n",
    "def plotArc(ax,P0,n0,l,da,tol=0.001,c=None):\n",
    "  x=np.linspace(0,l,max(2,int(abs(6*(da/(2*pi)))),int(l//(2*abs(2*l/da*tol)**0.5)+1))if (da!=0) and (l!=0) else 2)\n",
    "  phi2=x/l*da/2\n",
    "  p=P0+x*np.sinc(phi2/pi)*n0*np.exp(1j*phi2)\n",
    "  if c==None:\n",
    "    ax.plot(p.real,p.imag)\n",
    "  else:\n",
    "    ax.plot(p.real,p.imag,c)\n",
    "    \n",
    "def plotArcchain(ax,P0,n0,arcs,c=None):\n",
    "    p=P0\n",
    "    n=n0\n",
    "    for l,da in arcs:\n",
    "        plotArc(ax,p,n,l,da,c=c)\n",
    "        p+=l*np.sinc(da/(2*pi))*n*exp(1j*da/2)\n",
    "        n*=exp(1j*da)"
   ]
  },
  {
   "cell_type": "code",
   "execution_count": 2,
   "metadata": {},
   "outputs": [],
   "source": [
    "import matplotlib.pyplot as plt\n",
    "import numpy\n",
    "import cmath  \n",
    "\n",
    "%matplotlib notebook\n",
    "\n",
    "Data=dict(l1=0.15, r1=0.1, l2=0.15, r2=0.1,strands=5)\n",
    "def update_plot():\n",
    "  l1,r1,l2,r2,strands= [Data[key] for key in ('l1','r1','l2','r2','strands')]\n",
    "  output1.clear_output(wait=True)\n",
    "  with output1:\n",
    "    %matplotlib inline\n",
    "    fig=plt.figure(figsize=(3,3)) \n",
    "    ax=fig.add_subplot(1,1,1)  \n",
    "    plotArcchain(ax,0+0j,1+0j,((l1,0),(r1*2*pi,2*pi)))\n",
    "    c1=l1+1j*r1\n",
    "    ax.plot(c1.real,c1.imag,('k+'))\n",
    "    plotArcchain(ax,1+1j,-1+0j,((l2,0),(r2*2*pi,2*pi)))\n",
    "    c2=(1-l2)+1j*(1-r2)\n",
    "    ax.plot(c2.real,c2.imag,'k+') \n",
    "    c2_c1=(c2-c1)\n",
    "    lcc=abs(c2_c1) \n",
    "    ec2_c1=c2_c1/lcc\n",
    "    cosphi=((r1+r2)/lcc)\n",
    "    sinphi=sqrt(1-cosphi**2)\n",
    "    phi=cosphi+1j*sinphi\n",
    "    t1=c1+r1*ec2_c1/phi\n",
    "    t2=c2-r2*ec2_c1/phi\n",
    "    ax.plot([t1.real,t2.real],[t1.imag,t2.imag])  \n",
    "    ax.set_aspect('equal')\n",
    "    ax.set_aspect(1.0)\n",
    "    display(fig)\n",
    "    plt.close()\n",
    "  output2.clear_output(wait=True)\n",
    "  with output2:\n",
    "    fig=plt.figure(figsize=(12,3 )) \n",
    "    ax=fig.add_subplot(1,1,1)  \n",
    "    ltan,phitan=cmath.polar(t2-t1)\n",
    "    arcs=[(l1,0),(r1*phitan,phitan),(ltan,0),(r2*phitan,-phitan),(l2,0)]\n",
    "    arcs=(arcs+arcs[-1::-1])*2\n",
    "    for i in range(strands):\n",
    "      p0=2*i/strands+0j\n",
    "      n0=1+0j\n",
    "      plotArcchain(ax,p0,n0,arcs,c=['r','g','b','y','k'][i])\n",
    "    ax.set_xlim(0,4)\n",
    "    ax.set_aspect('equal')\n",
    "    display(fig)\n",
    "    plt.close()\n",
    "  output3.clear_output(wait=True)\n",
    "  with output3:\n",
    "    print(f'{l1=:0.3f}, {r1=:0.3f}, {l2=:0.3f}, {r2=:0.3f}, {strands=:d}')\n",
    "  plt.close()\n",
    "\n",
    "from ipywidgets import widgets,HBox,VBox\n",
    "output1=widgets.Output() \n",
    "output2=widgets.Output()\n",
    "output3=widgets.Output()\n",
    "def handle_change(msg):\n",
    "  Data[msg['owner'].description] = msg['new']\n",
    "  update_plot()\n",
    "\n",
    "widgetList=dict()\n",
    "\n",
    "key='l1'\n",
    "widgetList[key]=widgets.FloatSlider(description=key,\n",
    "            min=0.0,max=1.0,value=Data[key],step=0.01,continuous_update=False, orientation='horizontal',\n",
    "            readout_format='0.3f')\n",
    "key='r1'\n",
    "widgetList[key]=widgets.FloatSlider(description=key,\n",
    "            min=0.0,max=1.0,value=Data[key],step=0.01,continuous_update=False, orientation='horizontal',\n",
    "            readout_format='0.3f')\n",
    "key='l2'\n",
    "widgetList[key]=widgets.FloatSlider(description=key,\n",
    "            min=0.0,max=1.0,value=Data[key],step=0.01,continuous_update=False, orientation='horizontal',   \n",
    "           readout_format='0.3f')\n",
    "key='r2'\n",
    "widgetList[key]=widgets.FloatSlider(description=key,\n",
    "            min=0.0,max=1.0,value=Data[key],step=0.01,continuous_update=False, orientation='horizontal',\n",
    "            readout_format='0.3f')\n",
    "key='strands'\n",
    "widgetList[key]=widgets.IntSlider(description=key,\n",
    "            min=1,max=5,value=Data[key],step=1,continuous_update=False, orientation='horizontal',\n",
    "            readout_format='d')\n",
    "\n",
    "\n",
    "for w in widgetList.values():\n",
    "    w.observe(handle_change,'value')\n",
    "    if w.orientation=='horizontal':\n",
    "      w.layout.width='5in'\n",
    "    else:\n",
    "      w.layout.height='4in'\n",
    "\n",
    "Layout=VBox(\n",
    "        [\n",
    "        HBox([VBox([widgetList['l1'], widgetList['r1'],widgetList['l2'],widgetList['r2'],widgetList['strands']],), output1,],),\n",
    "        output2,\n",
    "        output3\n",
    "        ])\n",
    "update_plot();"
   ]
  },
  {
   "cell_type": "markdown",
   "metadata": {},
   "source": [
    "## Interactive Section"
   ]
  },
  {
   "cell_type": "code",
   "execution_count": 3,
   "metadata": {},
   "outputs": [
    {
     "data": {
      "application/vnd.jupyter.widget-view+json": {
       "model_id": "da184955b3544d1797905de22f7ad300",
       "version_major": 2,
       "version_minor": 0
      },
      "text/plain": [
       "VBox(children=(HBox(children=(VBox(children=(FloatSlider(value=0.15, continuous_update=False, description='l1'…"
      ]
     },
     "metadata": {},
     "output_type": "display_data"
    }
   ],
   "source": [
    "display(Layout);"
   ]
  }
 ],
 "metadata": {
  "colab": {
   "provenance": [
    {
     "file_id": "https://github.com/RichardPotthoff/myrepo/blob/master/FullControl_Capstan.ipynb",
     "timestamp": 1709670475958
    },
    {
     "file_id": "https://github.com/RichardPotthoff/myrepo/blob/master/cookiecutter.ipynb",
     "timestamp": 1703626737020
    },
    {
     "file_id": "https://github.com/RichardPotthoff/myrepo/blob/master/cookiecutter.ipynb",
     "timestamp": 1702822514462
    }
   ]
  },
  "kernelspec": {
   "display_name": "Python 3 (ipykernel)",
   "language": "python",
   "name": "python3"
  },
  "language_info": {
   "codemirror_mode": {
    "name": "ipython",
    "version": 3
   },
   "file_extension": ".py",
   "mimetype": "text/x-python",
   "name": "python",
   "nbconvert_exporter": "python",
   "pygments_lexer": "ipython3",
   "version": "3.11.0"
  }
 },
 "nbformat": 4,
 "nbformat_minor": 4
}
