{
 "cells": [
  {
   "cell_type": "markdown",
   "metadata": {},
   "source": [
    "# Blank Factory"
   ]
  },
  {
   "cell_type": "markdown",
   "metadata": {},
   "source": [
    "## Subroutines"
   ]
  },
  {
   "cell_type": "code",
   "execution_count": 1,
   "metadata": {},
   "outputs": [],
   "source": [
    "import numpy as np\n",
    "from matplotlib import pyplot as plt\n",
    "from cmath import pi,acos,exp,sqrt\n",
    "def plotArc(ax,P0,n0,l,da,tol=0.001,c=None):\n",
    "  if l==0:\n",
    "    return\n",
    "  x=np.linspace(0,l,max(2,int(abs(6*(da/(2*pi)))),int(l//(2*abs(2*l/da*tol)**0.5)+1))if (da!=0) and (l!=0) else 2)\n",
    "  phi2=x/l*da/2\n",
    "  p=P0+x*np.sinc(phi2/pi)*n0*np.exp(1j*phi2)\n",
    "  if c==None:\n",
    "    ax.plot(p.real,p.imag)\n",
    "  else:\n",
    "    ax.plot(p.real,p.imag,c)\n",
    "    \n",
    "def plotArcchain(ax,P0,n0,arcs,c=None):\n",
    "    p=P0\n",
    "    n=n0\n",
    "    for l,da in arcs:\n",
    "        plotArc(ax,p,n,l,da,c=c)\n",
    "        p+=l*np.sinc(da/(2*pi))*n*exp(1j*da/2)\n",
    "        n*=exp(1j*da)\n",
    "        \n",
    "def calcTangent(c1,r1,c2,r2):\n",
    "    c2_c1=(c2-c1)\n",
    "    lcc=abs(c2_c1) \n",
    "    ec2_c1=c2_c1/lcc\n",
    "    cosphi=((r1+r2)/lcc)\n",
    "    sinphi=sqrt(1-cosphi**2)\n",
    "    phi=-cosphi+1j*sinphi\n",
    "    t1=c1-r1*ec2_c1*phi\n",
    "    t2=c2+r2*ec2_c1*phi\n",
    "    return [t1,t2]"
   ]
  },
  {
   "cell_type": "markdown",
   "metadata": {},
   "source": [
    "### linear mesh"
   ]
  },
  {
   "cell_type": "code",
   "execution_count": 2,
   "metadata": {},
   "outputs": [],
   "source": [
    "import matplotlib.pyplot as plt\n",
    "import numpy\n",
    "import cmath  \n",
    "    \n",
    "%matplotlib notebook\n",
    "\n",
    "Data=dict(l1=0.15, r1=0.1, l2=0.15, r2=0.1,strands=5,phi_rim=0.2)\n",
    "def update_plot():\n",
    "  l1,r1,l2,r2,strands= [Data[key] for key in ('l1','r1','l2','r2','strands')]\n",
    "  output1.clear_output(wait=True)\n",
    "  with output1:\n",
    "    %matplotlib inline\n",
    "    fig=plt.figure(figsize=(3,3)) \n",
    "    ax=fig.add_subplot(1,1,1)  \n",
    "    plotArcchain(ax,0+0j,1+0j,((l1,0),(r1*2*pi,2*pi)))\n",
    "    c1=l1+1j*r1\n",
    "    ax.plot(c1.real,c1.imag,('k+'))\n",
    "    plotArcchain(ax,1+1j,-1+0j,((l2,0),(r2*2*pi,2*pi)))\n",
    "    c2=(1-l2)+1j*(1-r2)\n",
    "    ax.plot(c2.real,c2.imag,'k+') \n",
    "    t1,t2=calcTangent(c1,r1,c2,r2)\n",
    "    ax.plot([t1.real,t2.real],[t1.imag,t2.imag])  \n",
    "    ax.set_aspect('equal')\n",
    "    ax.set_aspect(1.0)\n",
    "    display(fig)\n",
    "    plt.close()\n",
    "  output2.clear_output(wait=True)\n",
    "  with output2:\n",
    "    fig=plt.figure(figsize=(12,3 )) \n",
    "    ax=fig.add_subplot(1,1,1)  \n",
    "    ltan,phitan=cmath.polar(t2-t1)\n",
    "    phitan%=2*pi\n",
    "    arcs=[(l1,0),(r1*phitan,phitan),(ltan,0),(r2*phitan,-phitan),(l2,0)]\n",
    "    arcs=(arcs+arcs[-1::-1])*2\n",
    "    for i in range(strands):\n",
    "      p0=2*i/strands+0j\n",
    "      n0=1+0j\n",
    "      plotArcchain(ax,p0,n0,arcs,c=['r','g','b','y','k'][i])\n",
    "    ax.set_xlim(0,4)\n",
    "    ax.set_aspect('equal')\n",
    "    display(fig)\n",
    "    plt.close()\n",
    "  output3.clear_output(wait=True)\n",
    "  with output3:\n",
    "    print(f'{l1=:0.3f}, {r1=:0.3f}, {l2=:0.3f}, {r2=:0.3f}, {strands=:d}')\n",
    "  plt.close()\n",
    "\n",
    "from ipywidgets import widgets,HBox,VBox\n",
    "output1=widgets.Output() \n",
    "output2=widgets.Output()\n",
    "output3=widgets.Output()\n",
    "def handle_change(msg):\n",
    "  Data[msg['owner'].description] = msg['new']\n",
    "  update_plot()\n",
    "\n",
    "widgetList1=dict()\n",
    "\n",
    "key='l1'\n",
    "widgetList1[key]=widgets.FloatSlider(description=key,\n",
    "            min=0.0,max=1.0,value=Data[key],step=0.01,continuous_update=False, orientation='horizontal',\n",
    "            readout_format='0.3f')\n",
    "key='r1'\n",
    "widgetList1[key]=widgets.FloatSlider(description=key,\n",
    "            min=0.0,max=1.0,value=Data[key],step=0.01,continuous_update=False, orientation='horizontal',\n",
    "            readout_format='0.3f')\n",
    "key='l2'\n",
    "widgetList1[key]=widgets.FloatSlider(description=key,\n",
    "            min=0.0,max=1.0,value=Data[key],step=0.01,continuous_update=False, orientation='horizontal',   \n",
    "           readout_format='0.3f')\n",
    "key='r2'\n",
    "widgetList1[key]=widgets.FloatSlider(description=key,\n",
    "            min=0.0,max=1.0,value=Data[key],step=0.01,continuous_update=False, orientation='horizontal',\n",
    "            readout_format='0.3f')\n",
    "key='strands'\n",
    "widgetList1[key]=widgets.BoundedIntText(description=key,\n",
    "            min=1,max=5,value=Data[key],step=1,continuous_update=False,layout={'widtht':'1in'},\n",
    "            readout_format='d')\n",
    "widgetList1['strands'].layout.width='1.5in'\n",
    "\n",
    "for  w in widgetList1.values():\n",
    "    w.observe(handle_change,'value')\n",
    "    if hasattr(w,'orientation'):\n",
    "        if w.orientation=='horizontal':\n",
    "          w.layout.width='5in'\n",
    "        else:\n",
    "          w.layout.height='4in'\n",
    "\n",
    "Layout1=VBox(\n",
    "        [\n",
    "        HBox([VBox([widgets.HTML(value=\"<h2>Parameters</h2>\"),widgetList1['l1'], widgetList1['r1'],widgetList1['l2'],widgetList1['r2'],widgetList1['strands']],), output1,],),\n",
    "        output2,\n",
    "        output3\n",
    "        ])\n",
    "update_plot();"
   ]
  },
  {
   "cell_type": "markdown",
   "metadata": {},
   "source": [
    "### circular mesh"
   ]
  },
  {
   "cell_type": "code",
   "execution_count": 6,
   "metadata": {},
   "outputs": [],
   "source": [
    "from cmath import pi\n",
    "circularData=dict(r_rim= 10.000, r_hub=3.000, n_spokes=13, n_strands=5,\n",
    "                  phi_rim=0.160, r_fillet_rim=0.060, phi_hub=0.050, r_fillet_hub=0.200,)\n",
    "                    \n",
    "\n",
    "def update_circular_plot():\n",
    "  keys=['r_rim','r_hub','n_spokes','phi_rim', 'r_fillet_rim', 'phi_hub', 'r_fillet_hub','n_strands']\n",
    "  r_rim,r_hub,n_spokes,phi_rim, r_fillet_rim, phi_hub, r_fillet_hub,n_strands= [circularData[key] for key in  keys]\n",
    "  output4.clear_output(wait=True)\n",
    "  phi_tot=2*pi*n_strands\n",
    "  phi_spoke2=phi_tot/(2*n_spokes)\n",
    "  l1,r1,l2,r2=phi_rim*phi_spoke2*r_rim,r_fillet_rim*phi_spoke2*r_rim,phi_hub*phi_spoke2*r_hub,r_fillet_hub*phi_spoke2*r_hub\n",
    "  with output4:\n",
    "    %matplotlib inline\n",
    "    fig=plt.figure(figsize=(4,4)) \n",
    "    ax=fig.add_subplot(1,1,1)  \n",
    "    ax.plot(0,0,'+')\n",
    "    ax.plot((0,0),(0,-r_rim),'k-.')\n",
    "    p=-1j*r_rim*exp(1j*phi_spoke2)\n",
    "    ax.plot((0,p.real),(0,p.imag),'k-.')\n",
    "    plotArcchain(ax,0-1j*r_rim,1+0j,((l1,phi_rim*phi_spoke2),(r1*2*pi,2*pi)))\n",
    "    c1=(0-1j*(r_rim-r1))*exp(1j*phi_rim*phi_spoke2)\n",
    "    ax.plot(c1.real,c1.imag,('k+'))\n",
    "    plotArcchain(ax,(0-1j*r_hub)*exp(1j*phi_spoke2),(-1+0j)*exp(1j*phi_spoke2),((l2,-phi_hub*phi_spoke2),(r2*2*pi,2*pi)))\n",
    "    c2=(0-1j*(r_hub+r2))*exp(1j*((1-phi_hub)*phi_spoke2))\n",
    "    ax.plot(c2.real,c2.imag,'k+') \n",
    "    t1,t2=calcTangent(c1,r1,c2,r2)\n",
    "    ax.plot([t1.real,t2.real],[t1.imag,t2.imag])  \n",
    "    ax.set_aspect('equal')\n",
    "    ax.set_aspect(1.0)\n",
    "    display(fig)\n",
    "    plt.close()\n",
    "  output5.clear_output(wait=True)\n",
    "  with output5:\n",
    "    fig=plt.figure(figsize=(6,6)) \n",
    "    ax=fig.add_subplot(1,1,1)  \n",
    "    ltan,phitan=cmath.polar(t2-t1)\n",
    "    phitan%=2*pi\n",
    "    arcs=[(l1,phi_rim*phi_spoke2),(r1*(phitan-phi_rim*phi_spoke2),phitan-phi_rim*phi_spoke2),(ltan,0),(r2*(phitan-((1-phi_hub)*phi_spoke2)),-phitan+((1-phi_hub)*phi_spoke2)),(l2,phi_hub*phi_spoke2)]\n",
    "    arcs=(arcs+arcs[-1::-1])*n_spokes\n",
    "    p0=0-1j*r_rim\n",
    "    n0=1+0j\n",
    "    plotArcchain(ax,p0,n0,arcs,c='b')\n",
    "    ax.set_aspect('equal')\n",
    "    display(fig)\n",
    "    plt.close()\n",
    "  output6.clear_output(wait=True)\n",
    "  with output6:\n",
    "    print(f'{r_rim=: 0.3f}, {r_hub=:0.3f}, {n_spokes=:d}, {n_strands=:d},')\n",
    "    print(f'{phi_rim=:0.3f}, {r_fillet_rim=:0.3f}, {phi_hub=:0.3f}, {r_fillet_hub=:0.3f},')\n",
    "    \n",
    "  plt.close()\n",
    "\n",
    "from ipywidgets import widgets,HBox,VBox\n",
    "output4=widgets.Output() \n",
    "output5=widgets.Output()\n",
    "output6=widgets.Output()\n",
    "\n",
    "def handle_change_circular(msg):\n",
    "  circularData[msg['owner'].description] = msg['new']\n",
    "  update_circular_plot()\n",
    "widgetList2={}\n",
    "key='r_rim'\n",
    "widgetList2[key]=widgets.FloatText(description=key,\n",
    "            value=circularData[key],continuous_update=False,layout={'width':'1.5in'},\n",
    "            readout_format='0.3f')\n",
    "key='r_hub'\n",
    "widgetList2[key]=widgets.FloatText(description=key,\n",
    "            value=circularData[key],continuous_update=False,layout={'width':'1.5in'},\n",
    "            readout_format='0.3f')\n",
    "key='n_spokes'\n",
    "widgetList2[key]=widgets.IntText(description=key,\n",
    "            value=circularData[key],step=1,continuous_update=False,layout={'width':'1.5in'},\n",
    "            readout_format='d')\n",
    "key='n_strands'\n",
    "widgetList2[key]=widgets.BoundedIntText(description=key,\n",
    "            min=1,max=5,value=circularData[key],step=1,continuous_update=False,layout={'width':'1.5in'},\n",
    "            readout_format='d')\n",
    "\n",
    "key='phi_rim'\n",
    "widgetList2[key]=widgets.FloatText(description=key,\n",
    "            value=circularData[key],step=0.01,continuous_update=False, layout={'width':'1.5in'},\n",
    "            readout_format='0.3f')\n",
    "key='r_fillet_rim'\n",
    "widgetList2[key]=widgets.FloatText(description=key,\n",
    "            value=circularData[key],step=0.01,continuous_update=False, layout={'width':'1.5in'},\n",
    "            readout_format='0.3f')\n",
    "key='phi_hub'\n",
    "widgetList2[key]=widgets.FloatText(description=key,\n",
    "            value=circularData[key],step=0.01,continuous_update=False, layout={'width':'1.5in'},\n",
    "           readout_format='0.3f')\n",
    "key='r_fillet_hub'\n",
    "widgetList2[key]=widgets.FloatText(description=key,\n",
    "            value=circularData[key],step=0.01,continuous_update=False, layout={'width':'1.5in'},\n",
    "            readout_format='0.3f')\n",
    "\n",
    "for  w in widgetList2.values():\n",
    "    w.observe(handle_change_circular,'value')\n",
    "    if hasattr(w,'orientation'):\n",
    "        if w.orientation=='horizontal':\n",
    "          w.layout.width='5in'\n",
    "        else:\n",
    "          w.layout.height='4in'\n",
    "\n",
    "Layout2=VBox(\n",
    "        [HBox([\n",
    "        VBox([HBox([VBox([widgetList2['r_rim'],widgetList2['r_hub'],widgetList2['n_spokes'],widgetList2['n_strands']],),VBox([widgetList2['phi_rim'], widgetList2['r_fillet_rim'],widgetList2['phi_hub'],widgetList2['r_fillet_hub'],]),],),\n",
    "             output4]),\n",
    "        output5,]),\n",
    "        output6\n",
    "        ])\n",
    "update_circular_plot();\n",
    "plt.close()"
   ]
  },
  {
   "cell_type": "code",
   "execution_count": 7,
   "metadata": {},
   "outputs": [],
   "source": [
    "Layout=widgets.Tab([Layout1,Layout2],titles=['Linear','Circular'])"
   ]
  },
  {
   "cell_type": "markdown",
   "metadata": {},
   "source": [
    "## Interactive Section"
   ]
  },
  {
   "cell_type": "code",
   "execution_count": 8,
   "metadata": {},
   "outputs": [
    {
     "data": {
      "application/vnd.jupyter.widget-view+json": {
       "model_id": "aecdbf9473c1420bae0130d70faf98e8",
       "version_major": 2,
       "version_minor": 0
      },
      "text/plain": [
       "Tab(children=(VBox(children=(HBox(children=(VBox(children=(HTML(value='<h2>Parameters</h2>'), FloatSlider(valu…"
      ]
     },
     "metadata": {},
     "output_type": "display_data"
    }
   ],
   "source": [
    "display(Layout); "
   ]
  },
  {
   "cell_type": "code",
   "execution_count": null,
   "metadata": {},
   "outputs": [],
   "source": []
  },
  {
   "cell_type": "code",
   "execution_count": null,
   "metadata": {},
   "outputs": [],
   "source": []
  }
 ],
 "metadata": {
  "colab": {
   "provenance": [
    {
     "file_id": "https://github.com/RichardPotthoff/myrepo/blob/master/FullControl_Capstan.ipynb",
     "timestamp": 1709670475958
    },
    {
     "file_id": "https://github.com/RichardPotthoff/myrepo/blob/master/cookiecutter.ipynb",
     "timestamp": 1703626737020
    },
    {
     "file_id": "https://github.com/RichardPotthoff/myrepo/blob/master/cookiecutter.ipynb",
     "timestamp": 1702822514462
    }
   ]
  },
  "kernelspec": {
   "display_name": "Python 3 (ipykernel)",
   "language": "python",
   "name": "python3"
  },
  "language_info": {
   "codemirror_mode": {
    "name": "ipython",
    "version": 3
   },
   "file_extension": ".py",
   "mimetype": "text/x-python",
   "name": "python",
   "nbconvert_exporter": "python",
   "pygments_lexer": "ipython3",
   "version": "3.11.0"
  }
 },
 "nbformat": 4,
 "nbformat_minor": 4
}
