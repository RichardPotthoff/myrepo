{
 "cells": [
  {
   "cell_type": "code",
   "execution_count": 1,
   "id": "217f0c2a-cf97-4d21-b437-c63013177d06",
   "metadata": {},
   "outputs": [
    {
     "data": {
      "text/latex": [
       "\\begin{equation*} \\langle \\mathbf{M} \\rangle _3 =  \\begin{aligned}[t]  & M^{txy} {\\left (t,x,y,z \\right )} \\boldsymbol{e}_{t}\\wedge \\boldsymbol{e}_{x}\\wedge \\boldsymbol{e}_{y} \\\\  &  + M^{txz} {\\left (t,x,y,z \\right )} \\boldsymbol{e}_{t}\\wedge \\boldsymbol{e}_{x}\\wedge \\boldsymbol{e}_{z} \\\\  &  + M^{tyz} {\\left (t,x,y,z \\right )} \\boldsymbol{e}_{t}\\wedge \\boldsymbol{e}_{y}\\wedge \\boldsymbol{e}_{z} \\\\  &  + M^{xyz} {\\left (t,x,y,z \\right )} \\boldsymbol{e}_{x}\\wedge \\boldsymbol{e}_{y}\\wedge \\boldsymbol{e}_{z}  \\end{aligned}  \\end{equation*}"
      ],
      "text/plain": [
       "\\langle \\mathbf{M} \\rangle _3 =  M__txy*e_t^e_x^e_y\n",
       " + M__txz*e_t^e_x^e_z\n",
       " + M__tyz*e_t^e_y^e_z\n",
       " + M__xyz*e_x^e_y^e_z"
      ]
     },
     "execution_count": 1,
     "metadata": {},
     "output_type": "execute_result"
    }
   ],
   "source": [
    "from sympy import symbols\n",
    "from galgebra.ga import Ga\n",
    "\n",
    "from galgebra.printer import Format\n",
    "Format(Fmode = False, Dmode = True)\n",
    "\n",
    "st4coords = (t,x,y,z) = symbols('t x y z', real=True)\n",
    "st4 = Ga('e',\n",
    "         g=[1,-1,-1,-1],\n",
    "         coords=st4coords)\n",
    "\n",
    "M = st4.mv('M','mv',f = True)\n",
    "\n",
    "M.grade(3).Fmt(3,r'\\langle \\mathbf{M} \\rangle _3')"
   ]
  },
  {
   "cell_type": "code",
   "execution_count": 2,
   "id": "b1236323-b3b4-48e3-ad57-1f8f1eb014d5",
   "metadata": {},
   "outputs": [
    {
     "name": "stdout",
     "output_type": "stream",
     "text": [
      "Defaulting to user installation because normal site-packages is not writeable\n",
      "Collecting galgebra\n",
      "  Downloading galgebra-0.5.0-py3-none-any.whl (95 kB)\n",
      "     ━━━━━━━━━━━━━━━━━━━━━━━━━━━━━━━━━━━━━━━━ 95.2/95.2 kB 2.8 MB/s eta 0:00:00\n",
      "Requirement already satisfied: sympy in /private/var/containers/Bundle/Application/76D54110-1F1D-4AC1-BB95-41D688D1A940/Carnets-sci.app/Library/lib/python3.11/site-packages (from galgebra) (1.12)\n",
      "Requirement already satisfied: mpmath>=0.19 in /private/var/containers/Bundle/Application/76D54110-1F1D-4AC1-BB95-41D688D1A940/Carnets-sci.app/Library/lib/python3.11/site-packages (from sympy->galgebra) (1.3.0)\n",
      "Installing collected packages: galgebra\n",
      "Successfully installed galgebra-0.5.0\n",
      "\r"
     ]
    },
    {
     "name": "stderr",
     "output_type": "stream",
     "text": [
      "\n",
      "[notice] A new release of pip is available: 23.1.2 -> 24.0\n",
      "[notice] To update, run: pip install --upgrade pip\n",
      "\r"
     ]
    },
    {
     "name": "stdout",
     "output_type": "stream",
     "text": [
      "Note: you may need to restart the kernel to use updated packages.\n"
     ]
    }
   ],
   "source": [
    "pip install galgebra"
   ]
  },
  {
   "cell_type": "code",
   "execution_count": null,
   "id": "3a254e6c-2b50-46a7-ae6c-7f69eebc8570",
   "metadata": {},
   "outputs": [],
   "source": []
  }
 ],
 "metadata": {
  "kernelspec": {
   "display_name": "Python 3 (ipykernel)",
   "language": "python",
   "name": "python3"
  },
  "language_info": {
   "codemirror_mode": {
    "name": "ipython",
    "version": 3
   },
   "file_extension": ".py",
   "mimetype": "text/x-python",
   "name": "python",
   "nbconvert_exporter": "python",
   "pygments_lexer": "ipython3",
   "version": "3.11.0"
  }
 },
 "nbformat": 4,
 "nbformat_minor": 5
}
