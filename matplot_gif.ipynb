{
 "cells": [
  {
   "cell_type": "code",
   "execution_count": 2,
   "id": "b814a92f-5583-4dd6-9db1-01efdf7547fd",
   "metadata": {},
   "outputs": [
    {
     "name": "stdout",
     "output_type": "stream",
     "text": [
      "None\n",
      "Line2D(_child0)\n",
      "Line2D(_child0)\n",
      "Line2D(_child0)\n",
      "Line2D(_child0)\n",
      "Line2D(_child0)\n",
      "Line2D(_child0)\n",
      "Line2D(_child0)\n",
      "Line2D(_child0)\n",
      "Line2D(_child0)\n"
     ]
    }
   ],
   "source": [
    "import io\n",
    "from PIL import Image\n",
    "import contextlib\n",
    "import matplotlib.pyplot as plt\n",
    "fp_out='image.gif'\n",
    "line=None\n",
    "def plotframe(fig,ax,x): \n",
    "    global line\n",
    "    if line!=None: line.remove()\n",
    "    ax.set_title(f'frame #{x} ')\n",
    "    line,=ax.plot([-5, 5],[x-5,5-x])\n",
    "    return fig\n",
    "def lazy(f,*args,**kwargs):\n",
    "  def lazyf():\n",
    "      return f(*args,**kwargs)\n",
    "  return lazyf\n",
    "def savetoimg(figs):\n",
    "    for fig in figs:\n",
    "      with io.BytesIO() as img_buf:  \n",
    "        fig.savefig(img_buf, format='png')\n",
    "        yield Image.open(img_buf)\n",
    "\n",
    "    # lazily load image\n",
    "fig,ax=plt.subplots(figsize=(6,4))\n",
    "ax.set_xlim(-6,6)\n",
    "ax.set_ylim(-6,6)\n",
    "ax.set_aspect('equal')\n",
    "ax.set_axis_off()\n",
    "\n",
    "#frameargs_durations = [((x,), 100*(x+1))  for x in range(10)] #lazy evaluation of \n",
    "#imgs=savetoimg(plotframe(fig,ax,*frameargs) for frameargs,duration in frameargs_durations)\n",
    "#durations=[duration for fig,duration in frameargs_durations]\n",
    "frameargs_durations = [(lazy(plotframe,fig,ax,x), 100*(x+1))  for x in range(10)] #lazy evaluation of \n",
    "imgs=savetoimg(lazyplotframe() for lazyplotframe,duration in frameargs_durations)\n",
    "durations=[duration for fig,duration in frameargs_durations]\n",
    "\n",
    "# extract  first image from iterator\n",
    "img = next(imgs)\n",
    "#img.convert('RGB').show()\n",
    "# https://pillow.readthedocs.io/en/stable/handbook/image-file-formats.html#gif\n",
    "\n",
    "img.save(fp=fp_out, format='GIF', append_images=imgs,\n",
    "             save_all=True, duration=durations, loop=0)\n",
    "plt.close()"
   ]
  },
  {
   "cell_type": "markdown",
   "id": "96685419-d593-4c67-8fd3-a1512230fbbc",
   "metadata": {},
   "source": [
    "![display gif](image.gif)"
   ]
  },
  {
   "cell_type": "code",
   "execution_count": 10,
   "id": "e563adb0-ae41-4fc1-805a-ca818a3f0e31",
   "metadata": {},
   "outputs": [],
   "source": [
    "import io\n",
    "from PIL import Image\n",
    "import contextlib\n",
    "import matplotlib.pyplot as plt\n",
    "def gen_ani(returntype='fig'):  #fig,dur,im\n",
    "  frame=0\n",
    "  duration=200\n",
    "  def yieldresult():\n",
    "      nonlocal frame,duration\n",
    "      ax.set_title(f'frame #{frame}, duration:{duration}')\n",
    "      if returntype=='fig':\n",
    "        yield fig\n",
    "      elif returntype=='dur':\n",
    "        yield duration\n",
    "      elif returntype=='im':\n",
    "        with io.BytesIO() as img_buf:  \n",
    "          fig.savefig(img_buf, format='png')\n",
    "          yield Image.open(img_buf)\n",
    "      else:\n",
    "        return\n",
    "      frame+=1\n",
    "      return\n",
    "  fig,ax=plt.subplots(figsize=(2,2))\n",
    "  ax.set_xlim(-1.1,1.1)\n",
    "  ax.set_ylim(-1.1,1.1)\n",
    "  ax.set_aspect('equal')\n",
    "  ax.set_axis_off()\n",
    "  ax.plot((1,-1),(1,1))\n",
    "  duration=500\n",
    "  ax.set_title(f'frame #{frame}, duration:{duration}')\n",
    "  yield from yieldresult()\n",
    "  ax.plot((-1,-1),(1,-1))\n",
    "  yield from yieldresult()\n",
    "  ax.plot((-1,1),(-1,-1))\n",
    "  yield from yieldresult()\n",
    "  ax.plot((1,1),(-1,1))\n",
    "  yield from yieldresult()\n",
    "  while ax.lines:\n",
    "      ax.lines[0].remove()\n",
    "  ax.plot((1,-1),(1,-1))\n",
    "  ax.plot((-1,1),(1,-1))\n",
    "  duration=1000\n",
    "  yield from yieldresult()\n",
    "  while ax.lines:\n",
    "      ax.lines[0].remove()\n",
    "  yield from yieldresult()\n",
    "  plt.close()\n",
    "  return\n",
    "    \n",
    "durations=list(gen_ani('dur'))\n",
    "#for im in gen_ani('im'):\n",
    "#   im.convert('RGB').show()\n",
    "#for f in gen_ani('fig'):\n",
    "#   display(f)\n",
    "imgs=gen_ani('im')\n",
    "img=next(imgs)\n",
    "fp_out='ani.gif'\n",
    "img.save(fp=fp_out, format='GIF', append_images=imgs,\n",
    "             save_all=True, duration=durations, loop=0)"
   ]
  },
  {
   "cell_type": "markdown",
   "id": "938d493e-f8fd-4553-963d-ed12924fbe3f",
   "metadata": {},
   "source": [
    "![animation](ani.gif)"
   ]
  },
  {
   "cell_type": "code",
   "execution_count": null,
   "id": "35202654-2427-425c-bbd9-23d634695f95",
   "metadata": {},
   "outputs": [],
   "source": []
  }
 ],
 "metadata": {
  "kernelspec": {
   "display_name": "Python 3 (ipykernel)",
   "language": "python",
   "name": "python3"
  },
  "language_info": {
   "codemirror_mode": {
    "name": "ipython",
    "version": 3
   },
   "file_extension": ".py",
   "mimetype": "text/x-python",
   "name": "python",
   "nbconvert_exporter": "python",
   "pygments_lexer": "ipython3",
   "version": "3.11.0"
  }
 },
 "nbformat": 4,
 "nbformat_minor": 5
}
