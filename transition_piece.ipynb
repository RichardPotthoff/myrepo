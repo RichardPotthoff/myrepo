{
 "cells": [
  {
   "cell_type": "markdown",
   "metadata": {
    "id": "4SAnEKMBTLwn"
   },
   "source": [
    "## 3D Printed Tube Transition Piece Example\n",
    "- A \"Turtle Graphics\" approach is used to define the extrusion paths:  A series of `(segment length, change of heading angle)` - tuples defines a path segment. e.g. the tuple `(2*pi ,2*pi)` defines a unit circle, the tuple `(1,0)` a straight line of unit length, and `(0,-30*deg)` turns on the spot `30deg` to the right.\n",
    "- Print layers are defined as a list of path offsets and extrusion widths:  Each layer has a different `(offset,extrusion width)`-list defined. The result is a \"Brickwork\" of overlapping extrusions.\n",
    "- Complex numbers are used for the 2D coordinates:  2D translations and rotations are simple additions and multiplications of complex numbers. E.g. the complex expression `(3+5j)*1j**(30/90)` rotates the point `(x=3,y=5)` counter-clockwise by `30deg` around the origin."
   ]
  },
  {
   "cell_type": "code",
   "execution_count": null,
   "metadata": {
    "id": "7g2nZo4TQgf_"
   },
   "outputs": [],
   "source": [
    "import fullcontrol as fc\n",
    "from math import tau\n",
    "from copy import deepcopy"
   ]
  },
  {
   "cell_type": "code",
   "execution_count": null,
   "metadata": {
    "id": "jlAwmN6iQggA"
   },
   "outputs": [],
   "source": [
    "# printer/gcode parameters\n",
    "\n",
    "design_name = 'transition piece'\n",
    "nozzle_temp = 220\n",
    "bed_temp = 120\n",
    "print_speed = 1000\n",
    "fan_percent = 0\n",
    "printer_name='generic' # generic / ultimaker2plus / prusa_i3 / ender_3 / cr_10 / bambulab_x1 / toolchanger_T0"
   ]
  },
  {
   "cell_type": "code",
   "execution_count": null,
   "metadata": {
    "id": "02RHs9q1QggA"
   },
   "outputs": [],
   "source": [
    "# design parameters\n",
    "\n",
    "bottom_width= 20\n",
    "# width at the top (mm)\n",
    "# default value: 20\n",
    "\n",
    "bottom_depth = 30\n",
    "# depth at the top (mm)\n",
    "# default value: 30\n",
    "\n",
    "bottom_radius = 3\n",
    "# fillet radius at the top (mm)\n",
    "# default value: 3\n",
    "\n",
    "height = 30\n",
    "# Height of the adapter (excluding flanges)\n",
    "# default value: 30\n",
    "\n",
    "top_width= 26\n",
    "# width at the top (mm)\n",
    "# default value: 26\n",
    "\n",
    "top_depth = 26\n",
    "# depth at the top (mm)\n",
    "# default value: 26\n",
    "\n",
    "top_radius = 13\n",
    "# fillet radius at the top (mm)\n",
    "# default value: 13\n",
    "\n",
    "detail_tolerance = 0.03\n",
    "# allowable deviation of the extrusion path from the ideal path (mm)\n",
    "# smaller values result in finer details at the cost of more points and larger files\n",
    "# default value: 0.03\n",
    "\n",
    "bottom_EW = 1.0\n",
    "# Extrusion Width at the bottom of the single-wall section (mm) - Width of printed lines - recommended value: >= 1.4x nozzle diameter\n",
    "# default value: 1.0\n",
    "\n",
    "top_EW = 1.0\n",
    "# Extrusion Width at the top of the single-wall section (mm) - Width of printed lines - recommended value: >= 1.4x nozzle diameter\n",
    "# default value: 1.0\n",
    "\n",
    "EH = 0.2\n",
    "# Extrusion Height (mm) - Height of printed lines (i.e. layer thickness) - recommended value: <=0.4x EW\n",
    "# default value: 0.2\n",
    "\n",
    "BottomFlange=1\n",
    "# bottom flange design [0..2] 0=None\n",
    "# default value:1\n",
    "\n",
    "TopFlange=1\n",
    "# top flange design [0..1] 0=None\n",
    "# default value:1\n"
   ]
  },
  {
   "cell_type": "code",
   "execution_count": null,
   "metadata": {
    "id": "M951DGxtITXM"
   },
   "outputs": [],
   "source": [
    "# definition functions for the conversion of the turtle path circle segments to extrusion path points\n",
    "import numpy as np\n",
    "from matplotlib import pyplot as plt\n",
    "from numpy import pi,exp,sign\n",
    "deg=pi/180 #conversion from degrees to radians\n",
    "\n",
    "def mirrorTurtlePath(turtlePath):\n",
    "    \"This function returns the original path with its mirror image appended to it.\"\n",
    "    return turtlePath + turtlePath[-1::-1]\n",
    "\n",
    "def polygonArea(p):\n",
    "  \"This function calculates the area of an arbitrary polygon.\\n\"\n",
    "  \"The 2D points have to be passed as an numpy array of complex values (e.g. (x=5,y=3) -> 5+3j )\"\n",
    "  def crossprod(v1,v2):\n",
    "    return v1.real*v2.imag-v2.real*v1.imag\n",
    "  return 0.5*np.sum(crossprod(p[range(-1,len(p)-1)],p))\n",
    "\n",
    "def turtlePathArea(turtlePath):\n",
    "  \"This function calculates the area on the left side of a turtle path. \\n\"\n",
    "  \"The path has to be defined as a list of arc segments: [(length, heading angle change in radians),..] \\n\"\n",
    "  \"The path needs to be closed (start point = ent point) for meaningful results.\"\n",
    "  nSegs=len(turtlePath)\n",
    "  dl,dang=np.array(turtlePath).transpose()\n",
    "  ang=np.cumsum(dang)\n",
    "  ang=exp(1j*np.insert( ang,0,0))\n",
    "  dang_2=np.exp(1j*dang/2)\n",
    "  viSeg=np.sinc(dang/(2*pi))*dl*dang_2*ang[:-1]\n",
    "  pSeg=np.cumsum(viSeg)\n",
    "  olderr=np.geterr()\n",
    "  np.seterr(divide='ignore',invalid='ignore')#suppress the warnings from 0/0 = nan. nansum assumes nan=0, which is the correct value in this case\n",
    "  area=polygonArea(pSeg) +  np.nansum((dl/dang)**2*(dang/2.0-dang_2.real*dang_2.imag))\n",
    "  np.seterr(**olderr)\n",
    "  return area\n",
    "\n",
    "def turtlePathLength(turtlePath):\n",
    "  \"This function calculates the total length of a turtle path.\"\n",
    "  return sum(l for l,ang in turtlePath)\n",
    "\n",
    "def turtlePath2ComplexPoints(turtlePath,p0=0+0j,a0=1+0j,scale=1.0,tol=0.05,offs=0,loops=1,return_startpoint=False,return_heading=False):\n",
    "  \"This function returns a sequence of points on a turtle path. \\n\"\n",
    "  \"A turtlePath is a list of (arc length, heading change in radians) tuples. \\n\"\n",
    "  \"The function returns points on the path as complex numbers, where x=real, and y=imag. \\n\"\n",
    "  \"Optionally, the headings at each point can also be returned as unit vectors. \\n\"\n",
    "  'The parameter \"tol\" defines the resolution. It is the maximum allowable \\n'\n",
    "  \"difference between the arc and the secant connecting two consecutive\\n\"\n",
    "  \"path points on the arc. Smaller values for tol will result in \\n\"\n",
    "  \"more points per arc segment.\"\n",
    "  a=a0\n",
    "  p=p0\n",
    "  p-=1j*a*offs\n",
    "  if return_startpoint:\n",
    "      yield p,a if return_heading else p\n",
    "  for _ in range(loops):\n",
    "      for l,da in turtlePath:\n",
    "        l=l*scale\n",
    "        if da!=0:\n",
    "          r=l/da\n",
    "          r+=offs\n",
    "          if r!=0:\n",
    "            l=r*da\n",
    "            dl=2*abs(2*r*tol)**0.5\n",
    "            n=max(int(abs(6*(da/(2*pi)))),int(l//dl)+1)\n",
    "          else:\n",
    "            n=1\n",
    "          dda=exp(1j*da/n)\n",
    "          dda2=dda**0.5\n",
    "          v=(2*r*dda2.imag)*dda2*a\n",
    "        else:\n",
    "          n=1\n",
    "          dda=1\n",
    "          v=l*a\n",
    "        for _ in range(n):\n",
    "          p+=v\n",
    "          if return_heading:\n",
    "            yield p,a\n",
    "          else:\n",
    "            yield p\n",
    "          v*=dda\n",
    "          a*=dda"
   ]
  },
  {
   "cell_type": "code",
   "execution_count": null,
   "metadata": {
    "colab": {
     "base_uri": "https://localhost:8080/",
     "height": 430
    },
    "executionInfo": {
     "elapsed": 234,
     "status": "ok",
     "timestamp": 1705626980217,
     "user": {
      "displayName": "Richard Potthoff",
      "userId": "15179971153117928983"
     },
     "user_tz": 300
    },
    "id": "AFZfJI7ZQggB",
    "outputId": "6dd49ed6-f27b-40b1-ffd2-5955239f8085"
   },
   "outputs": [
    {
     "data": {
      "image/png": "[encoded data removed]",
      "text/plain": [
       "<Figure size 640x480 with 1 Axes>"
      ]
     },
     "metadata": {},
     "output_type": "display_data"
    }
   ],
   "source": [
    "#definition of a cross-section of the transition piece as a series of circle segments (turtle path)\n",
    "from math import cos,pi\n",
    "\n",
    "def transitionPiece(width,depth,radius):\n",
    "    'This function returns a turtle path for a rectangle with a width of \"width\", a depth of \"depth\", \\n'\n",
    "    'and rounded corners with a radius of \"radius\".'\n",
    "    'If the radius is too large, an exception is raised.'\n",
    "    if (radius>(width/2)) or (radius>(depth/2)) or (radius<0):\n",
    "        raise Exception(f'argument \"radius\" out of bounds: transitionPiece({width=}, {depth=}, {radius=})')\n",
    "    #first, one quadrant is defined ...\n",
    "    quadrant=[(width/2-radius, 0.0),(radius*90*deg,90*deg),(depth/2-radius,0.0)]\n",
    "    #... which is then mirrored and duplicated to give the full shape:\n",
    "    return mirrorTurtlePath(quadrant)*2 #this is a list multiplication: concatenate the same list twice\n",
    "\n",
    "bottom_area=turtlePathArea(transitionPiece(bottom_width,bottom_depth,bottom_radius))\n",
    "top_area=turtlePathArea(transitionPiece(top_width,top_depth,top_radius))\n",
    "\n",
    "n=6\n",
    "\n",
    "start_heading=1+0j# to the right\n",
    "for i in range(n):\n",
    "  alpha=(1+cos(i/(n-1)*pi))/2 #alpha for smooth blending\n",
    "  blend_radius=                                  bottom_radius * alpha  +                top_radius * (1-alpha)\n",
    "  blend_width =2*blend_radius + (bottom_width-2*bottom_radius) * alpha  +  (top_width-2*top_radius) * (1-alpha)\n",
    "  blend_depth =2*blend_radius + (bottom_depth-2*bottom_radius) * alpha  +  (top_depth-2*top_radius) * (1-alpha)\n",
    "  desired_blend_area  =                      (bottom_area**0.5 * alpha  +             top_area**0.5 * (1-alpha))**2\n",
    "  blend_turtlePath=transitionPiece(blend_width,blend_depth,blend_radius)\n",
    "  actual_blend_area=turtlePathArea(blend_turtlePath)\n",
    "  scale=(desired_blend_area/actual_blend_area)**0.5\n",
    "  path_start=0-1j*blend_depth*scale/2\n",
    "  px,headings=np.array(list(turtlePath2ComplexPoints(blend_turtlePath,scale=scale,p0=path_start,a0=start_heading,tol=detail_tolerance,offs=0,return_startpoint=True,return_heading=True))).transpose()\n",
    "  plt.plot(0,0,'k+')\n",
    "  plt.plot(px.real,px.imag,'.-')\n",
    "plt.gca().set_aspect('equal')\n",
    "plt.show()"
   ]
  },
  {
   "cell_type": "code",
   "execution_count": null,
   "metadata": {
    "colab": {
     "base_uri": "https://localhost:8080/",
     "height": 430
    },
    "executionInfo": {
     "elapsed": 245,
     "status": "ok",
     "timestamp": 1705626980452,
     "user": {
      "displayName": "Richard Potthoff",
      "userId": "15179971153117928983"
     },
     "user_tz": 300
    },
    "id": "nv0JMXrGQggB",
    "outputId": "a51df741-6aa3-4662-884b-7c93bd2fbe0f"
   },
   "outputs": [
    {
     "data": {
      "image/png": "[encoded data removed]",
      "text/plain": [
       "<Figure size 640x480 with 1 Axes>"
      ]
     },
     "metadata": {},
     "output_type": "display_data"
    }
   ],
   "source": [
    "#Path offset example.\n",
    "#This is used to produce the flanges, in combination with the \"Brickwork\" defined below:\n",
    "\n",
    "n=4\n",
    "from math import cos,pi\n",
    "sh=1+0j\n",
    "for offs in (0,-2,2):\n",
    "  turtlePath=transitionPiece(bottom_width,bottom_depth,bottom_radius)\n",
    "  scale=1\n",
    "  sp=0-1j*bottom_depth*scale/2\n",
    "  px,headings=np.array(list(turtlePath2ComplexPoints(turtlePath,scale=scale,p0=sp,a0=sh,tol= 0.03,offs=offs,return_startpoint=True,return_heading=True))).transpose()\n",
    "  plt.plot(0,0,'k+')\n",
    "  plt.plot(px.real,px.imag,'.-')\n",
    "plt.gca().set_aspect('equal')\n",
    "plt.show()"
   ]
  },
  {
   "cell_type": "code",
   "execution_count": null,
   "metadata": {
    "id": "DRhKfs8XITXO"
   },
   "outputs": [],
   "source": [
    "#Definitionof the \"Brickwork\" that defines the offsets and extrusion width\n",
    "#of the cross-section that makes up the bottom and (upside-down) the top flange.\n",
    "def fitBricks(minx,maxx,n):\n",
    "  \"This function returns a list of n (offset, width) tuples \\n\"\n",
    "  \"that evenly fill the space between xmin, and xmax. \\n\"\n",
    "  w=maxx-minx\n",
    "  dx=float(w)/n\n",
    "  x=minx+dx/2\n",
    "  result=[(x,abs(dx))]\n",
    "  for i in range(n-1):\n",
    "    x+=dx\n",
    "    result.append((x,abs(dx)))\n",
    "  if n>3:\n",
    "    result=[result[1]]+[result[0]]+result[n-2:]+result[2:n-2]\n",
    "  return result\n",
    "#definition of \"Brickwork\" for a flange.\n",
    "#For the flange to be flush with the wall of the tube, the tube wall has to be offset by\n",
    "#1/2 its width so that the defined path is flush with the inside of the tube wall.\n",
    "#The \"Brickwork\" is designed to be printed upside down as well, so it can be used in reverse\n",
    "#for the top edge. The wall thickness of the tube itself shuold be about 1mm.\n",
    "flangeBrickwork1=[fitBricks(2.0,0.2,2)]+\\\n",
    "       [fitBricks(w2,0,n) for w2,n in ((4.4/2,3),(4.6/2,4))]+\\\n",
    "       [((cw/2,cw),(w2-ww/2,ww)) for w2,ww,cw in[ \\\n",
    "        (4.8/2,1.0,1.0),\\\n",
    "        (5.0/2,1.0,0.8),\\\n",
    "        (5.0/2,0.9,0.6)]+\\\n",
    "        [(5.0/2,0.9,0.5)]*2+[\\\n",
    "        (4.8/2,0.9,0.5),\\\n",
    "        (4.6/2,0.9,0.5),\\\n",
    "        (4.4/2,1.0,0.5),\\\n",
    "        (2.0,1.0,0.7)]\\\n",
    "        ]+\\\n",
    "        [fitBricks(1.8,0,2),\\\n",
    "         fitBricks(1.6,0,3),\\\n",
    "        fitBricks(1.4,0,2),\\\n",
    "        fitBricks(1.2,0,2)]+\\\n",
    "       [[((1.1-0.6*i/50.0)/2.0,1.1-0.6*i/50.0)] for i in range(1)]\n",
    "\n",
    "#flange design #2 may not print well upside-down:\n",
    "flangeBrickwork2= [fitBricks(-w2,w2,n) for w2,n in ((3.6/2,4),(4.0/2,5),(4.4/2,6),(4.6/2,5))]+ \\\n",
    "      [((0.0,cw),(-w2+ww/2,ww),(w2-ww/2,ww)) for w2,ww,cw in[ \\\n",
    "        (4.8/2,1.0,1.0),\\\n",
    "        (5.0/2,1.0,0.8),\\\n",
    "        (5.0/2,0.9,0.6)]+\\\n",
    "        [(5.0/2,0.9,0.5)]*2+[\\\n",
    "        (4.8/2,0.9,0.5),\\\n",
    "        (4.6/2,0.9,0.5),\\\n",
    "        (4.4/2,1.0,0.5)]+\\\n",
    "        [(w2,1.0,0.5)for w2 in(4.0/2,3.6/2,3.2/2,2.8/2)]+\\\n",
    "        [(2.4/2,0.9,0.6)]\n",
    "        ]+\\\n",
    "      [fitBricks(-w2,w2,n) for w2,n in ((2.0/2,2),(1.6/2,3),(1.2/2,2))]\n",
    "#shift offsets for brickwork2 by 0.5mm\n",
    "flangeBrickwork2=[[(offs+0.5,w) for offs,w in layer] for layer in flangeBrickwork2]\n",
    "\n",
    "flangeBrickworks=[None,flangeBrickwork1,flangeBrickwork2]"
   ]
  },
  {
   "cell_type": "code",
   "execution_count": null,
   "metadata": {
    "colab": {
     "base_uri": "https://localhost:8080/",
     "height": 430
    },
    "executionInfo": {
     "elapsed": 210,
     "status": "ok",
     "timestamp": 1705626980654,
     "user": {
      "displayName": "Richard Potthoff",
      "userId": "15179971153117928983"
     },
     "user_tz": 300
    },
    "id": "E_SGXoEHITXO",
    "outputId": "e782cff7-2f3a-423d-e36c-5bf0b6760d8c"
   },
   "outputs": [
    {
     "data": {
      "image/png": "[encoded data removed]",
      "text/plain": [
       "<Figure size 1200x400 with 2 Axes>"
      ]
     },
     "metadata": {},
     "output_type": "display_data"
    }
   ],
   "source": [
    "#Showing the \"Brickwork\".\n",
    "#Each rectangle represents one extrusion path.\n",
    "hl=0.2\n",
    "fig,axs=plt.subplots(1,2,figsize=(12,4))\n",
    "for k in [1,2]:\n",
    "  ax=axs[k-1]\n",
    "  ax.set_aspect('equal')\n",
    "  ax.set_title(f'flange design #{k}')\n",
    "  ax.set_ylim(0,4.2)\n",
    "  ax.plot((0,0),(0,10),'r--',zorder=5)\n",
    "  for i,layer in enumerate(flangeBrickworks[k]):\n",
    "    y=i*hl\n",
    "    if y>5.5:\n",
    "      break\n",
    "    for x,w in layer:\n",
    "      axs[k-1].plot((x-w/2,x+w/2,x+w/2,x-w/2,x-w/2),(y,y,y+hl,y+hl,y),'b-',zorder=1)\n"
   ]
  },
  {
   "cell_type": "code",
   "execution_count": null,
   "metadata": {
    "id": "I_fohQOpMpAR"
   },
   "outputs": [],
   "source": [
    "#The complete \"FullControl\" version of everything shown above:\n",
    "from math import cos,pi\n",
    "\n",
    "steps=[]\n",
    "nwipe=5\n",
    "nskip=5\n",
    "nskirt=2\n",
    "skirtoffs=3.0\n",
    "\n",
    "\n",
    "#print the bottom flange\n",
    "turtlePath=transitionPiece(bottom_width,bottom_depth,bottom_radius)\n",
    "start_point=0-1j*bottom_depth/2\n",
    "start_heading=1+0j\n",
    "scale=1.0\n",
    "z=0 #start at the surface of the build plate\n",
    "jt=0#point counter\n",
    "if BottomFlange!=0:\n",
    "  for i,layer in enumerate(flangeBrickworks[BottomFlange]):\n",
    "    z+=EH\n",
    "    if i==0: # at the first layer, add extrusion paths outside of the object to get the flow started\n",
    "      layer=[(skirtoffs-(0.6*(i-nskirt)),0.7) for i in range(nskirt)]+layer\n",
    "    for offs,ew in layer:\n",
    "      path=list(turtlePath2ComplexPoints(turtlePath,p0=start_point,a0=start_heading,tol=detail_tolerance,scale=scale,offs=offs))\n",
    "      n=len(path)#the changing offset may change the number of points\n",
    "      steps.append(fc.Extruder(on=False))\n",
    "      steps.append(fc.ExtrusionGeometry(area_model='rectangle',height=hl,width=ew))\n",
    "      jt=jt%n\n",
    "      p=path[jt]\n",
    "      steps.extend(fc.travel_to(fc.Point(x=p.real,y=p.imag,z=z)))\n",
    "      for _ in range(nskip): #skip a few points along the path before switching the extruder on\n",
    "        jt=(jt+1)%n\n",
    "        p=path[jt]\n",
    "        steps.append(fc.Point(x=p.real,y=p.imag,z=z))\n",
    "      steps.append(fc.Extruder(on=True))\n",
    "      for _ in range(n):#extrude a full path (n points)\n",
    "        jt=(jt+1)%n\n",
    "        p=path[jt]\n",
    "        steps.append(fc.Point(x=p.real,y=p.imag,z=z))\n",
    "      steps.append(fc.Extruder(on=False))\n",
    "      for _ in range(nwipe):#continue on the path for a few points to \"iron\" over the start of the extrusion\n",
    "        jt=(jt+1)%n\n",
    "        p=path[jt]\n",
    "        steps.append(fc.Point(x=p.real,y=p.imag,z=z))\n",
    "\n",
    "#print the transition piece in spiral mode\n",
    "zb=z          #use the top of the flange as the bottom of the transition section\n",
    "zt=zb+height  #height from the desigh parameters\n",
    "old_eh=-1\n",
    "old_ew=-1\n",
    "steps.append(fc.Extruder(on=False))\n",
    "eh_min=EH*0.25 #start the first spiral with a non-zero eztrusion height\n",
    "path=list(turtlePath2ComplexPoints(turtlePath,p0=start_point,a0=start_heading,tol=detail_tolerance,scale=scale,offs=offs))\n",
    "n=len(path)\n",
    "while  z<(zt+hl):\n",
    "  #re-calculate the path once for each layer\n",
    "  alpha=(1+cos((z-zb)/(zt-zb)*pi))/2\n",
    "  blend_radius=                                  bottom_radius * alpha  +                top_radius * (1-alpha)\n",
    "  blend_width =2*blend_radius + (bottom_width-2*bottom_radius) * alpha  +  (top_width-2*top_radius) * (1-alpha)\n",
    "  blend_depth =2*blend_radius + (bottom_depth-2*bottom_radius) * alpha  +  (top_depth-2*top_radius) * (1-alpha)\n",
    "  blend_EW =                                         bottom_EW * alpha  +                    top_EW * (1-alpha)\n",
    "  desired_blend_area  =                      (bottom_area**0.5 * alpha  +             top_area**0.5 * (1-alpha))**2\n",
    "  blend_turtlePath=transitionPiece(blend_width,blend_depth,blend_radius)\n",
    "  actual_blend_area=turtlePathArea(blend_turtlePath)\n",
    "  scale=(desired_blend_area/actual_blend_area)**0.5\n",
    "  path_start=0-1j*blend_depth*scale/2\n",
    "  dzdj=EH/n #z changes by EH for n points, one complete spiral\n",
    "  n_new=0 # we do not know exactly how many points are in the path ahead of time, so let's count as we go\n",
    "  for p in turtlePath2ComplexPoints(blend_turtlePath,scale=scale,p0=path_start,a0=start_heading,tol= detail_tolerance,offs=ew/2):\n",
    "      n_new+=1\n",
    "      z+=dzdj#this should add up to about EH for one complete path\n",
    "      if ((zt-(z-hl))/hl)<1e-2: #too small extrusion heights can cause gcodes with scientific number formats, e.g. 1e-6\n",
    "          break                 #I think this is a bug in FullControl.\n",
    "      eh=max(0,min(z-zb+eh_min if (z-zb)<(eh_min+EH) else EH,zt-(z-EH),zt-zb))#smaller extrusion heights at top and bottom\n",
    "      if (abs(eh-old_eh)/EH)>0.01 or abs(ew-old_ew)>0.005:#only update the extrusion geometry if there has been a significant change\n",
    "        steps.append(fc.ExtrusionGeometry(area_model='rectangle',height=eh,width=blend_EW))\n",
    "        old_eh=eh\n",
    "        old_ew=blend_EW\n",
    "      steps.append(fc.Point(x=p.real,y=p.imag,z=min(z,zt)))\n",
    "      steps.append(fc.Extruder(on=True))#switch extruder on after moving to the first point\n",
    "  n=n_new #n changes slightly as the path is recalculated\n",
    "\n",
    "#print the top flange\n",
    "if TopFlange!=0:\n",
    "  turtlePath=transitionPiece(top_width,top_depth,top_radius)\n",
    "  scale=1.0\n",
    "  path_start=0-1j*top_depth/2*scale\n",
    "  start_heading=1+0j\n",
    "  z=zt#reset z to the top of the spiral\n",
    "\n",
    "  for i,layer in enumerate(reversed(flangeBrickworks[TopFlange])):\n",
    "    z+=hl\n",
    "    for offs,ew in layer:\n",
    "      path=list(turtlePath2ComplexPoints(turtlePath,p0=path_start,a0=start_heading,tol=detail_tolerance,scale=scale,offs=offs))\n",
    "      n=len(path)\n",
    "      steps.append(fc.Extruder(on=False))\n",
    "      steps.append(fc.ExtrusionGeometry(area_model='rectangle',height=EH,width=ew))\n",
    "      jt=jt%n\n",
    "      p=path[jt]\n",
    "      steps.extend(fc.travel_to(fc.Point(x=p.real,y=p.imag,z=z)))\n",
    "      for _ in range(nskip):\n",
    "        jt=(jt+1)%n\n",
    "        p=path[jt]\n",
    "        steps.append(fc.Point(x=p.real,y=p.imag,z=z))\n",
    "      steps.append(fc.Extruder(on=True))\n",
    "      for _ in range(n):\n",
    "        jt=(jt+1)%n\n",
    "        p=path[jt]\n",
    "        steps.append(fc.Point(x=p.real,y=p.imag,z=z))\n",
    "      steps.append(fc.Extruder(on=False))\n",
    "      for _ in range(nwipe):\n",
    "        jt=(jt+1)%n\n",
    "        p=path[jt]\n",
    "        steps.append(fc.Point(x=p.real,y=p.imag,z=z))\n",
    "\n",
    "steps.append(fc.Extruder(on=False))\n",
    "steps.extend(fc.travel_to(fc.Point(x=0,y=0)))\n",
    "# offset the whole procedure. z dictates the gap between the nozzle and the bed for the first layer, assuming the model was designed with a first layer z-position of 0\n",
    "model_offset = fc.Vector(x=100.0, y=100.0, z=0.0*hl)\n",
    "steps = fc.move(steps, model_offset)"
   ]
  },
  {
   "cell_type": "code",
   "execution_count": null,
   "metadata": {
    "colab": {
     "base_uri": "https://localhost:8080/",
     "height": 517
    },
    "executionInfo": {
     "elapsed": 2911,
     "status": "ok",
     "timestamp": 1705626984037,
     "user": {
      "displayName": "Richard Potthoff",
      "userId": "15179971153117928983"
     },
     "user_tz": 300
    },
    "id": "p_eDiGPbM3UM",
    "outputId": "09a303c0-9ac3-4476-9b86-1f226106dfa0"
   },
   "outputs": [],
   "source": [
    "fc.transform(steps, 'plot', fc.PlotControls(style='tube',color_type='print_sequence',raw_data=False, initialization_data={'extrusion_width': bottom_EW, 'extrusion_height': EH}));"
   ]
  },
  {
   "cell_type": "code",
   "execution_count": null,
   "metadata": {
    "id": "brIVvmYsjhM3"
   },
   "outputs": [],
   "source": [
    "gcode_controls = fc.GcodeControls(\n",
    "    printer_name=printer_name,\n",
    "    save_as=design_name,\n",
    "    initialization_data={\n",
    "        'primer': 'no_primer',\n",
    "        'print_speed': print_speed,\n",
    "        'nozzle_temp': nozzle_temp,\n",
    "        'bed_temp': bed_temp,\n",
    "        'fan_speed':fan_percent,\n",
    "         })\n",
    "gcode = fc.transform(steps, 'gcode', gcode_controls)"
   ]
  }
 ],
 "metadata": {
  "colab": {
   "history_visible": true,
   "provenance": [
    {
     "file_id": "https://github.com/RichardPotthoff/3D_Printing/blob/main/transition_piece.ipynb",
     "timestamp": 1705669563615
    },
    {
     "file_id": "https://github.com/RichardPotthoff/myrepo/blob/master/transition_piece.ipynb",
     "timestamp": 1705626878276
    },
    {
     "file_id": "https://github.com/RichardPotthoff/myrepo/blob/master/cookiecutter.ipynb",
     "timestamp": 1702822514462
    }
   ]
  },
  "kernelspec": {
   "display_name": "Python 3 (ipykernel)",
   "language": "python",
   "name": "python3"
  },
  "language_info": {
   "codemirror_mode": {
    "name": "ipython",
    "version": 3
   },
   "file_extension": ".py",
   "mimetype": "text/x-python",
   "name": "python",
   "nbconvert_exporter": "python",
   "pygments_lexer": "ipython3",
   "version": "3.11.0"
  }
 },
 "nbformat": 4,
 "nbformat_minor": 4
}
